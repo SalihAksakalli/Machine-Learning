{
 "cells": [
  {
   "cell_type": "code",
   "execution_count": 1,
   "id": "6f802a81",
   "metadata": {},
   "outputs": [],
   "source": [
    "#Tahmin Kalitesi Nasıl  Ölçülür\n",
    "#Hata : Gerçek ile tahmin arasındaki fark\n",
    "#Tahmin değeri  gerçek değere ne kadar yakın ise MSE o kadar  küçük olacaktır."
   ]
  },
  {
   "cell_type": "markdown",
   "id": "93cf2ae4",
   "metadata": {},
   "source": [
    "## Mean Square Error (MSE)"
   ]
  },
  {
   "cell_type": "code",
   "execution_count": 2,
   "id": "abc80821",
   "metadata": {},
   "outputs": [],
   "source": [
    "#Bias  : Ön kabul, Ön  yargı \n",
    "#Variance : Değişkenlik, Varyans"
   ]
  },
  {
   "cell_type": "code",
   "execution_count": 3,
   "id": "2502ea32",
   "metadata": {},
   "outputs": [],
   "source": [
    "#Esneklik arttıkça , Bias  azalır Variance artar"
   ]
  },
  {
   "cell_type": "code",
   "execution_count": 4,
   "id": "926ebef5",
   "metadata": {},
   "outputs": [],
   "source": [
    "#Classification da amaç:\n",
    "    #Bilmediğimiz y nin hangi sınıfta oldugunu  öğrenmek\n",
    "    #Sınıfların olasılıklarını hesaplamak\n",
    "    #Girdilerin etkisini hesaplamak"
   ]
  },
  {
   "cell_type": "code",
   "execution_count": 5,
   "id": "e13a888e",
   "metadata": {},
   "outputs": [],
   "source": [
    "#Classifier : Sınıflandırma modellerine verilen genel isim \n",
    "# iyi bir Classifier, Test Hata oranını minimum yapan Classifierdır\n"
   ]
  },
  {
   "cell_type": "code",
   "execution_count": 6,
   "id": "909d2238",
   "metadata": {},
   "outputs": [],
   "source": [
    "#Bayes Classifier:\n",
    "    # Bayes Classifier en düşük hata oranını  (error rate) verir.(öğrenme olmadan )\n",
    "    # En yüksek  orana göre sınıflandırma  yapar diyebiliriz.\n",
    "    #Bayes Classifier da elimizde olasılıklar oldugunu kabul ediyoruz.\n",
    "    #olasılık yoksa Nearest Neighbor Averaging"
   ]
  },
  {
   "cell_type": "markdown",
   "id": "4f6c412c",
   "metadata": {},
   "source": [
    "## K - Nearest Neighbors"
   ]
  },
  {
   "cell_type": "markdown",
   "id": "60dbcad2",
   "metadata": {},
   "source": [
    "## KNN"
   ]
  },
  {
   "cell_type": "code",
   "execution_count": 8,
   "id": "76dfee85",
   "metadata": {},
   "outputs": [],
   "source": [
    "# KNN bir noktadaki (X0) olasılığı hesaplarken komşularını  (K0) alırız\n",
    "#Sonra bu komşuların  hangi sınıflara ait oldugunu olasılık olarak hesaplarız\n",
    "#Sonra en  yüksek sınıf olasılığını alırız"
   ]
  },
  {
   "cell_type": "code",
   "execution_count": null,
   "id": "f8c964e5",
   "metadata": {},
   "outputs": [],
   "source": []
  }
 ],
 "metadata": {
  "kernelspec": {
   "display_name": "Python 3 (ipykernel)",
   "language": "python",
   "name": "python3"
  },
  "language_info": {
   "codemirror_mode": {
    "name": "ipython",
    "version": 3
   },
   "file_extension": ".py",
   "mimetype": "text/x-python",
   "name": "python",
   "nbconvert_exporter": "python",
   "pygments_lexer": "ipython3",
   "version": "3.11.4"
  }
 },
 "nbformat": 4,
 "nbformat_minor": 5
}
