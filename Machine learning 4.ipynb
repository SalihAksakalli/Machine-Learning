{
 "cells": [
  {
   "cell_type": "code",
   "execution_count": 15,
   "id": "1573ef2c",
   "metadata": {},
   "outputs": [],
   "source": [
    "#Kütüphaneleri  import ediyoruz\n",
    "import pandas as pd \n",
    "import matplotlib.pyplot as plt\n",
    "from sklearn.linear_model import LinearRegression"
   ]
  },
  {
   "cell_type": "code",
   "execution_count": 16,
   "id": "864b02e5",
   "metadata": {},
   "outputs": [],
   "source": [
    "df = pd.read_csv(\"Advertising.csv\",index_col=0)"
   ]
  },
  {
   "cell_type": "code",
   "execution_count": 17,
   "id": "d7bb2d52",
   "metadata": {},
   "outputs": [
    {
     "data": {
      "text/html": [
       "<div>\n",
       "<style scoped>\n",
       "    .dataframe tbody tr th:only-of-type {\n",
       "        vertical-align: middle;\n",
       "    }\n",
       "\n",
       "    .dataframe tbody tr th {\n",
       "        vertical-align: top;\n",
       "    }\n",
       "\n",
       "    .dataframe thead th {\n",
       "        text-align: right;\n",
       "    }\n",
       "</style>\n",
       "<table border=\"1\" class=\"dataframe\">\n",
       "  <thead>\n",
       "    <tr style=\"text-align: right;\">\n",
       "      <th></th>\n",
       "      <th>TV</th>\n",
       "      <th>radio</th>\n",
       "      <th>newspaper</th>\n",
       "      <th>sales</th>\n",
       "    </tr>\n",
       "  </thead>\n",
       "  <tbody>\n",
       "    <tr>\n",
       "      <th>count</th>\n",
       "      <td>200.000000</td>\n",
       "      <td>200.000000</td>\n",
       "      <td>200.000000</td>\n",
       "      <td>200.000000</td>\n",
       "    </tr>\n",
       "    <tr>\n",
       "      <th>mean</th>\n",
       "      <td>147.042500</td>\n",
       "      <td>23.264000</td>\n",
       "      <td>30.554000</td>\n",
       "      <td>14.022500</td>\n",
       "    </tr>\n",
       "    <tr>\n",
       "      <th>std</th>\n",
       "      <td>85.854236</td>\n",
       "      <td>14.846809</td>\n",
       "      <td>21.778621</td>\n",
       "      <td>5.217457</td>\n",
       "    </tr>\n",
       "    <tr>\n",
       "      <th>min</th>\n",
       "      <td>0.700000</td>\n",
       "      <td>0.000000</td>\n",
       "      <td>0.300000</td>\n",
       "      <td>1.600000</td>\n",
       "    </tr>\n",
       "    <tr>\n",
       "      <th>25%</th>\n",
       "      <td>74.375000</td>\n",
       "      <td>9.975000</td>\n",
       "      <td>12.750000</td>\n",
       "      <td>10.375000</td>\n",
       "    </tr>\n",
       "    <tr>\n",
       "      <th>50%</th>\n",
       "      <td>149.750000</td>\n",
       "      <td>22.900000</td>\n",
       "      <td>25.750000</td>\n",
       "      <td>12.900000</td>\n",
       "    </tr>\n",
       "    <tr>\n",
       "      <th>75%</th>\n",
       "      <td>218.825000</td>\n",
       "      <td>36.525000</td>\n",
       "      <td>45.100000</td>\n",
       "      <td>17.400000</td>\n",
       "    </tr>\n",
       "    <tr>\n",
       "      <th>max</th>\n",
       "      <td>296.400000</td>\n",
       "      <td>49.600000</td>\n",
       "      <td>114.000000</td>\n",
       "      <td>27.000000</td>\n",
       "    </tr>\n",
       "  </tbody>\n",
       "</table>\n",
       "</div>"
      ],
      "text/plain": [
       "               TV       radio   newspaper       sales\n",
       "count  200.000000  200.000000  200.000000  200.000000\n",
       "mean   147.042500   23.264000   30.554000   14.022500\n",
       "std     85.854236   14.846809   21.778621    5.217457\n",
       "min      0.700000    0.000000    0.300000    1.600000\n",
       "25%     74.375000    9.975000   12.750000   10.375000\n",
       "50%    149.750000   22.900000   25.750000   12.900000\n",
       "75%    218.825000   36.525000   45.100000   17.400000\n",
       "max    296.400000   49.600000  114.000000   27.000000"
      ]
     },
     "execution_count": 17,
     "metadata": {},
     "output_type": "execute_result"
    }
   ],
   "source": [
    "df.describe()"
   ]
  },
  {
   "cell_type": "code",
   "execution_count": 18,
   "id": "d5c57e5f",
   "metadata": {},
   "outputs": [
    {
     "data": {
      "text/html": [
       "<div>\n",
       "<style scoped>\n",
       "    .dataframe tbody tr th:only-of-type {\n",
       "        vertical-align: middle;\n",
       "    }\n",
       "\n",
       "    .dataframe tbody tr th {\n",
       "        vertical-align: top;\n",
       "    }\n",
       "\n",
       "    .dataframe thead th {\n",
       "        text-align: right;\n",
       "    }\n",
       "</style>\n",
       "<table border=\"1\" class=\"dataframe\">\n",
       "  <thead>\n",
       "    <tr style=\"text-align: right;\">\n",
       "      <th></th>\n",
       "      <th>TV</th>\n",
       "      <th>radio</th>\n",
       "      <th>newspaper</th>\n",
       "      <th>sales</th>\n",
       "    </tr>\n",
       "  </thead>\n",
       "  <tbody>\n",
       "    <tr>\n",
       "      <th>1</th>\n",
       "      <td>230.1</td>\n",
       "      <td>37.8</td>\n",
       "      <td>69.2</td>\n",
       "      <td>22.1</td>\n",
       "    </tr>\n",
       "    <tr>\n",
       "      <th>2</th>\n",
       "      <td>44.5</td>\n",
       "      <td>39.3</td>\n",
       "      <td>45.1</td>\n",
       "      <td>10.4</td>\n",
       "    </tr>\n",
       "    <tr>\n",
       "      <th>3</th>\n",
       "      <td>17.2</td>\n",
       "      <td>45.9</td>\n",
       "      <td>69.3</td>\n",
       "      <td>9.3</td>\n",
       "    </tr>\n",
       "    <tr>\n",
       "      <th>4</th>\n",
       "      <td>151.5</td>\n",
       "      <td>41.3</td>\n",
       "      <td>58.5</td>\n",
       "      <td>18.5</td>\n",
       "    </tr>\n",
       "    <tr>\n",
       "      <th>5</th>\n",
       "      <td>180.8</td>\n",
       "      <td>10.8</td>\n",
       "      <td>58.4</td>\n",
       "      <td>12.9</td>\n",
       "    </tr>\n",
       "  </tbody>\n",
       "</table>\n",
       "</div>"
      ],
      "text/plain": [
       "      TV  radio  newspaper  sales\n",
       "1  230.1   37.8       69.2   22.1\n",
       "2   44.5   39.3       45.1   10.4\n",
       "3   17.2   45.9       69.3    9.3\n",
       "4  151.5   41.3       58.5   18.5\n",
       "5  180.8   10.8       58.4   12.9"
      ]
     },
     "execution_count": 18,
     "metadata": {},
     "output_type": "execute_result"
    }
   ],
   "source": [
    "df.head()"
   ]
  },
  {
   "cell_type": "code",
   "execution_count": 39,
   "id": "fe553e02",
   "metadata": {},
   "outputs": [],
   "source": [
    "#input--> X_1,x_2,x_3\n",
    "X_1 = df[\"TV\"]\n",
    "X_2 =df[\"radio\"]\n",
    "X_3 =df[\"newspaper\"]"
   ]
  },
  {
   "cell_type": "code",
   "execution_count": 40,
   "id": "449f8914",
   "metadata": {},
   "outputs": [
    {
     "data": {
      "text/plain": [
       "pandas.core.series.Series"
      ]
     },
     "execution_count": 40,
     "metadata": {},
     "output_type": "execute_result"
    }
   ],
   "source": [
    "type(X_1)"
   ]
  },
  {
   "cell_type": "code",
   "execution_count": 41,
   "id": "a72ad9b8",
   "metadata": {},
   "outputs": [
    {
     "data": {
      "text/plain": [
       "(200,)"
      ]
     },
     "execution_count": 41,
     "metadata": {},
     "output_type": "execute_result"
    }
   ],
   "source": [
    "X_1.shape"
   ]
  },
  {
   "cell_type": "code",
   "execution_count": 42,
   "id": "2a562fb4",
   "metadata": {},
   "outputs": [],
   "source": [
    "#output\n",
    "y = df[\"sales\"]"
   ]
  },
  {
   "cell_type": "code",
   "execution_count": 43,
   "id": "e5d4ad7f",
   "metadata": {},
   "outputs": [
    {
     "data": {
      "text/plain": [
       "(200,)"
      ]
     },
     "execution_count": 43,
     "metadata": {},
     "output_type": "execute_result"
    }
   ],
   "source": [
    "y.shape"
   ]
  },
  {
   "cell_type": "code",
   "execution_count": 44,
   "id": "82b72521",
   "metadata": {},
   "outputs": [],
   "source": [
    "#regresyon için hazırlık \n",
    "liner_regressor = LinearRegression()"
   ]
  },
  {
   "cell_type": "code",
   "execution_count": 45,
   "id": "e763766d",
   "metadata": {},
   "outputs": [],
   "source": [
    "#DataFrame'lerin şeklini düzenleme ->output(Regresyon için girdi ve çıktıların vektör olması lazım) \n",
    "y_r = y.values.reshape(-1,1)\n",
    "\n",
    "#y_r = y.values.reshape(-1, 1) ifadesi, bir veri dizisini yeniden şekillendirmek için kullanılan bir NumPy işlevidir. İfade, bir NumPy dizisini yeniden boyutlandırarak veriyi farklı bir şekilde düzenler. Şimdi bu ifadeyi ayrıntılı olarak açıklayalım:\n",
    "\n",
    "#y bir NumPy dizisidir ve bu dizi içindeki verilere erişmek için kullanılır.\n",
    "#y.values Pandas Series veya DataFrame nesnesi içindeki verileri temsil eden bir NumPy dizisi döndürür.\n",
    "##reshape(-1, 1) ifadesi, bu NumPy dizisini yeniden boyutlandırmak için kullanılır. -1 ile belirtilen boyut, diğer boyutlara bağlı olarak otomatik olarak hesaplanırken, 1 sütun boyutunu temsil eder.\n",
    "#Bu ifadenin yaptığı şey, aslında y dizisini sütun vektörü şeklinde yeniden düzenlemektir. Bu, verileri farklı bir yapıya taşımanın veya başka bir analiz işlemi için verileri yeniden düzenlemenin yaygın bir yolu olabilir.\n",
    "\n",
    "#Örnek olarak, y bir Pandas DataFrame sütunu veya serisi olarak başlayabilir ve bazı NumPy işlemleri yapmak için veriyi yeniden boyutlandırmak isteyebilirsiniz. Bu, özellikle bazı makine öğrenme algoritmalarının girdi olarak sütun vektörlerini beklediği durumlarda faydalıdır."
   ]
  },
  {
   "cell_type": "code",
   "execution_count": 46,
   "id": "547399d3",
   "metadata": {},
   "outputs": [
    {
     "data": {
      "text/plain": [
       "(200,)"
      ]
     },
     "execution_count": 46,
     "metadata": {},
     "output_type": "execute_result"
    }
   ],
   "source": [
    "#orjinal datanın şekli\n",
    "#Satır,sütun\n",
    "y.shape "
   ]
  },
  {
   "cell_type": "code",
   "execution_count": 47,
   "id": "21164695",
   "metadata": {},
   "outputs": [
    {
     "data": {
      "text/plain": [
       "(200, 1)"
      ]
     },
     "execution_count": 47,
     "metadata": {},
     "output_type": "execute_result"
    }
   ],
   "source": [
    "#yeniden boyutlandırılmış şekli\n",
    "y_r.shape"
   ]
  },
  {
   "cell_type": "code",
   "execution_count": 50,
   "id": "479cc71e",
   "metadata": {},
   "outputs": [],
   "source": [
    "#Dataframelerin şeklini düzenle --> input\n",
    "X_1_r = X_1.values.reshape(-1,1)\n",
    "X_2_r = X_2.values.reshape(-1,1)\n",
    "X_3_r = X_3.values.reshape(-1,1)"
   ]
  },
  {
   "cell_type": "code",
   "execution_count": 51,
   "id": "ed89885a",
   "metadata": {},
   "outputs": [
    {
     "data": {
      "text/plain": [
       "(200, 1)"
      ]
     },
     "execution_count": 51,
     "metadata": {},
     "output_type": "execute_result"
    }
   ],
   "source": [
    "X_1_r.shape"
   ]
  },
  {
   "cell_type": "code",
   "execution_count": 54,
   "id": "ab183c4d",
   "metadata": {},
   "outputs": [
    {
     "data": {
      "text/plain": [
       "Text(0.5, 1.0, 'TV - Satış ')"
      ]
     },
     "execution_count": 54,
     "metadata": {},
     "output_type": "execute_result"
    },
    {
     "data": {
      "image/png": "[encoded data removed]",
      "text/plain": [
       "<Figure size 640x480 with 1 Axes>"
      ]
     },
     "metadata": {},
     "output_type": "display_data"
    }
   ],
   "source": [
    "#Satış-TV\n",
    "\n",
    "#Data -> X_1\n",
    "plt.scatter(X_1,y,c=\"orange\")\n",
    "#regresyon\n",
    "liner_regressor.fit(X_1_r,y_r)\n",
    "y_pred_1 = liner_regressor.predict(X_1_r)\n",
    "plt.plot(X_1,y_pred_1,color=\"red\")\n",
    "\n",
    "\n",
    "plt.xlabel(\"TV\")\n",
    "plt.ylabel(\"Satış\")\n",
    "plt.title(\"TV - Satış \")\n"
   ]
  },
  {
   "cell_type": "code",
   "execution_count": 57,
   "id": "7feb81d9",
   "metadata": {},
   "outputs": [
    {
     "data": {
      "text/plain": [
       "Text(0.5, 1.0, 'Radio - Satış ')"
      ]
     },
     "execution_count": 57,
     "metadata": {},
     "output_type": "execute_result"
    },
    {
     "data": {
      "image/png": "[encoded data removed]",
      "text/plain": [
       "<Figure size 640x480 with 1 Axes>"
      ]
     },
     "metadata": {},
     "output_type": "display_data"
    }
   ],
   "source": [
    "#Satış-Radio\n",
    "#Data -> X_2\n",
    "plt.scatter(X_2,y,c=\"green\")\n",
    "#regresyon\n",
    "liner_regressor.fit(X_2_r,y_r)\n",
    "y_pred_2 = liner_regressor.predict(X_2_r)\n",
    "plt.plot(X_2,y_pred_2,color=\"red\")\n",
    "\n",
    "\n",
    "plt.xlabel(\"Radio\")\n",
    "plt.ylabel(\"Satış\")\n",
    "plt.title(\"Radio - Satış \")"
   ]
  }
 ],
 "metadata": {
  "kernelspec": {
   "display_name": "Python 3 (ipykernel)",
   "language": "python",
   "name": "python3"
  },
  "language_info": {
   "codemirror_mode": {
    "name": "ipython",
    "version": 3
   },
   "file_extension": ".py",
   "mimetype": "text/x-python",
   "name": "python",
   "nbconvert_exporter": "python",
   "pygments_lexer": "ipython3",
   "version": "3.11.4"
  }
 },
 "nbformat": 4,
 "nbformat_minor": 5
}
